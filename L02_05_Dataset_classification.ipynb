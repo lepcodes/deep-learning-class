{
 "cells": [
  {
   "cell_type": "markdown",
   "id": "ca4e4131",
   "metadata": {},
   "source": [
    "<a href=\"https://colab.research.google.com/github/Dr-Carlos-Villasenor/Clase_Aprendizaje_Profundo/blob/main/L02_04_Regla_delta.ipynb\" target=\"_parent\"><img src=\"https://colab.research.google.com/assets/colab-badge.svg\" alt=\"Open In Colab\"/></a>"
   ]
  },
  {
   "cell_type": "markdown",
   "id": "f8cb514e",
   "metadata": {},
   "source": [
    "# Dataset Classification\n",
    "## Luis Enrique Preciado Muñiz"
   ]
  },
  {
   "cell_type": "code",
   "execution_count": 91,
   "id": "c9dbe676",
   "metadata": {},
   "outputs": [],
   "source": [
    "import numpy as np\n",
    "import matplotlib.pyplot as plt\n",
    "import pandas as pd"
   ]
  },
  {
   "cell_type": "markdown",
   "id": "dfd9b962",
   "metadata": {},
   "source": [
    "Parte 1: Importar dataset"
   ]
  },
  {
   "cell_type": "code",
   "execution_count": 62,
   "id": "bf4318e2",
   "metadata": {},
   "outputs": [
    {
     "data": {
      "application/vnd.microsoft.datawrangler.viewer.v0+json": {
       "columns": [
        {
         "name": "index",
         "rawType": "int64",
         "type": "integer"
        },
        {
         "name": "Clump",
         "rawType": "int64",
         "type": "integer"
        },
        {
         "name": "UnifSize",
         "rawType": "int64",
         "type": "integer"
        },
        {
         "name": "UnifShape",
         "rawType": "int64",
         "type": "integer"
        },
        {
         "name": "MargAdh",
         "rawType": "int64",
         "type": "integer"
        },
        {
         "name": "SingEpiSize",
         "rawType": "int64",
         "type": "integer"
        },
        {
         "name": "BareNuc",
         "rawType": "int64",
         "type": "integer"
        },
        {
         "name": "BlandChrom",
         "rawType": "int64",
         "type": "integer"
        },
        {
         "name": "NormNucl",
         "rawType": "int64",
         "type": "integer"
        },
        {
         "name": "Mit",
         "rawType": "int64",
         "type": "integer"
        },
        {
         "name": "Class",
         "rawType": "int64",
         "type": "integer"
        }
       ],
       "ref": "239c1569-44c5-4b64-b05c-431a224dde90",
       "rows": [
        [
         "0",
         "5",
         "1",
         "1",
         "1",
         "2",
         "1",
         "3",
         "1",
         "1",
         "1"
        ],
        [
         "1",
         "5",
         "4",
         "4",
         "5",
         "7",
         "10",
         "3",
         "2",
         "1",
         "1"
        ],
        [
         "2",
         "3",
         "1",
         "1",
         "1",
         "2",
         "2",
         "3",
         "1",
         "1",
         "1"
        ],
        [
         "3",
         "6",
         "8",
         "8",
         "1",
         "3",
         "4",
         "3",
         "7",
         "1",
         "1"
        ],
        [
         "4",
         "4",
         "1",
         "1",
         "3",
         "2",
         "1",
         "3",
         "1",
         "1",
         "1"
        ]
       ],
       "shape": {
        "columns": 10,
        "rows": 5
       }
      },
      "text/html": [
       "<div>\n",
       "<style scoped>\n",
       "    .dataframe tbody tr th:only-of-type {\n",
       "        vertical-align: middle;\n",
       "    }\n",
       "\n",
       "    .dataframe tbody tr th {\n",
       "        vertical-align: top;\n",
       "    }\n",
       "\n",
       "    .dataframe thead th {\n",
       "        text-align: right;\n",
       "    }\n",
       "</style>\n",
       "<table border=\"1\" class=\"dataframe\">\n",
       "  <thead>\n",
       "    <tr style=\"text-align: right;\">\n",
       "      <th></th>\n",
       "      <th>Clump</th>\n",
       "      <th>UnifSize</th>\n",
       "      <th>UnifShape</th>\n",
       "      <th>MargAdh</th>\n",
       "      <th>SingEpiSize</th>\n",
       "      <th>BareNuc</th>\n",
       "      <th>BlandChrom</th>\n",
       "      <th>NormNucl</th>\n",
       "      <th>Mit</th>\n",
       "      <th>Class</th>\n",
       "    </tr>\n",
       "  </thead>\n",
       "  <tbody>\n",
       "    <tr>\n",
       "      <th>0</th>\n",
       "      <td>5</td>\n",
       "      <td>1</td>\n",
       "      <td>1</td>\n",
       "      <td>1</td>\n",
       "      <td>2</td>\n",
       "      <td>1</td>\n",
       "      <td>3</td>\n",
       "      <td>1</td>\n",
       "      <td>1</td>\n",
       "      <td>1</td>\n",
       "    </tr>\n",
       "    <tr>\n",
       "      <th>1</th>\n",
       "      <td>5</td>\n",
       "      <td>4</td>\n",
       "      <td>4</td>\n",
       "      <td>5</td>\n",
       "      <td>7</td>\n",
       "      <td>10</td>\n",
       "      <td>3</td>\n",
       "      <td>2</td>\n",
       "      <td>1</td>\n",
       "      <td>1</td>\n",
       "    </tr>\n",
       "    <tr>\n",
       "      <th>2</th>\n",
       "      <td>3</td>\n",
       "      <td>1</td>\n",
       "      <td>1</td>\n",
       "      <td>1</td>\n",
       "      <td>2</td>\n",
       "      <td>2</td>\n",
       "      <td>3</td>\n",
       "      <td>1</td>\n",
       "      <td>1</td>\n",
       "      <td>1</td>\n",
       "    </tr>\n",
       "    <tr>\n",
       "      <th>3</th>\n",
       "      <td>6</td>\n",
       "      <td>8</td>\n",
       "      <td>8</td>\n",
       "      <td>1</td>\n",
       "      <td>3</td>\n",
       "      <td>4</td>\n",
       "      <td>3</td>\n",
       "      <td>7</td>\n",
       "      <td>1</td>\n",
       "      <td>1</td>\n",
       "    </tr>\n",
       "    <tr>\n",
       "      <th>4</th>\n",
       "      <td>4</td>\n",
       "      <td>1</td>\n",
       "      <td>1</td>\n",
       "      <td>3</td>\n",
       "      <td>2</td>\n",
       "      <td>1</td>\n",
       "      <td>3</td>\n",
       "      <td>1</td>\n",
       "      <td>1</td>\n",
       "      <td>1</td>\n",
       "    </tr>\n",
       "  </tbody>\n",
       "</table>\n",
       "</div>"
      ],
      "text/plain": [
       "   Clump  UnifSize  UnifShape  MargAdh  SingEpiSize  BareNuc  BlandChrom  \\\n",
       "0      5         1          1        1            2        1           3   \n",
       "1      5         4          4        5            7       10           3   \n",
       "2      3         1          1        1            2        2           3   \n",
       "3      6         8          8        1            3        4           3   \n",
       "4      4         1          1        3            2        1           3   \n",
       "\n",
       "   NormNucl  Mit  Class  \n",
       "0         1    1      1  \n",
       "1         2    1      1  \n",
       "2         1    1      1  \n",
       "3         7    1      1  \n",
       "4         1    1      1  "
      ]
     },
     "execution_count": 62,
     "metadata": {},
     "output_type": "execute_result"
    }
   ],
   "source": [
    "df = pd.read_csv('./Datasets/cancer.csv')\n",
    "Y = df[['Class']].to_numpy().T\n",
    "X = df.drop(['Class'], axis=1).to_numpy().T\n",
    "df.head()"
   ]
  },
  {
   "cell_type": "markdown",
   "id": "9af7d61e",
   "metadata": {},
   "source": [
    "Parte 2: Crear e Instanciar Neurona Logística"
   ]
  },
  {
   "cell_type": "code",
   "execution_count": 75,
   "id": "2438c658",
   "metadata": {},
   "outputs": [],
   "source": [
    "class Logistic_Neuron:\n",
    "\n",
    "    def __init__(self, n_inputs, learning_rate=0.1):\n",
    "        self.w = - 1 + 2 * np.random.rand(n_inputs).reshape(-1, 1)\n",
    "        self.b = - 1 + 2 * np.random.rand()\n",
    "        self.eta = learning_rate\n",
    "\n",
    "    def predict_proba(self, X):\n",
    "        Z = np.dot(self.w.T, X) + self.b\n",
    "        Y_est = 1/(1+np.exp(-Z))\n",
    "        return Y_est\n",
    "    \n",
    "    def predict(self, X, umbral=0.5):\n",
    "        Z = np.dot(self.w.T, X) + self.b\n",
    "        Y_est = 1/(1+np.exp(-Z))\n",
    "        return 1 * (Y_est > umbral)\n",
    "\n",
    "    def train(self, X, Y, epochs=100):\n",
    "        p = X.shape[1]\n",
    "        for _ in range(epochs):\n",
    "            Y_est = self.predict_proba(X)\n",
    "            self.w += (self.eta/p) * np.dot((Y - Y_est), X.T).reshape(-1, 1)\n",
    "            self.b += (self.eta/p) * np.sum(Y - Y_est)\n",
    "\n",
    "neuron = Logistic_Neuron(n_inputs=X.shape[0], learning_rate=0.1)"
   ]
  },
  {
   "cell_type": "markdown",
   "id": "8426407a",
   "metadata": {},
   "source": [
    "Parte 4: Entrenar neurona"
   ]
  },
  {
   "cell_type": "code",
   "execution_count": null,
   "id": "9b6d81f6",
   "metadata": {},
   "outputs": [],
   "source": [
    "neuron.train(X=X, Y=Y, epochs=100)"
   ]
  },
  {
   "cell_type": "markdown",
   "id": "3b14d382",
   "metadata": {},
   "source": [
    "Parte 5: Predicción"
   ]
  },
  {
   "cell_type": "code",
   "execution_count": 85,
   "id": "147db0e3",
   "metadata": {},
   "outputs": [],
   "source": [
    "Y_pred = neuron.predict(X=X, umbral=0.5).ravel()\n",
    "Y = Y.ravel()"
   ]
  },
  {
   "cell_type": "markdown",
   "id": "fa5cc76f",
   "metadata": {},
   "source": [
    "Parte 6: Diagnósticos acertados"
   ]
  },
  {
   "cell_type": "code",
   "execution_count": 89,
   "id": "a1227de7",
   "metadata": {},
   "outputs": [
    {
     "name": "stdout",
     "output_type": "stream",
     "text": [
      "El porcentaje de diagnosticos acertados es:  0.9399707174231332%\n"
     ]
    }
   ],
   "source": [
    "correct = 0\n",
    "for i in range(Y.shape[0]):\n",
    "    if Y[i] == Y_pred[i]:\n",
    "        correct += 1\n",
    "\n",
    "print(\"El porcentaje de diagnosticos acertados es: \", correct/Y.shape[0], \"\\b%\")"
   ]
  }
 ],
 "metadata": {
  "kernelspec": {
   "display_name": "deep-learning-class",
   "language": "python",
   "name": "python3"
  },
  "language_info": {
   "codemirror_mode": {
    "name": "ipython",
    "version": 3
   },
   "file_extension": ".py",
   "mimetype": "text/x-python",
   "name": "python",
   "nbconvert_exporter": "python",
   "pygments_lexer": "ipython3",
   "version": "3.13.5"
  }
 },
 "nbformat": 4,
 "nbformat_minor": 5
}
